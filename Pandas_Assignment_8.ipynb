{
  "nbformat": 4,
  "nbformat_minor": 0,
  "metadata": {
    "colab": {
      "provenance": []
    },
    "kernelspec": {
      "name": "python3",
      "display_name": "Python 3"
    },
    "language_info": {
      "name": "python"
    }
  },
  "cells": [
    {
      "cell_type": "code",
      "source": [
        "import pandas as pd\n",
        "\n",
        "# Books Data\n",
        "books_data = {\n",
        "    'title': ['The Great Gatsby', 'To Kill a Mockingbird', '1984', 'Pride and Prejudice', 'The Catcher in the Rye'],\n",
        "    'author': ['F. Scott Fitzgerald', 'Harper Lee', 'George Orwell', 'Jane Austen', 'J.D. Salinger'],\n",
        "    'genre': ['Fiction', 'Fiction', 'Dystopian', 'Romance', 'Fiction'],\n",
        "    'description': [\n",
        "        'A novel set in the 1920s about the mysterious Jay Gatsby.',\n",
        "        'A novel about the serious issues of rape and racial inequality.',\n",
        "        'A dystopian novel set in a totalitarian society under constant surveillance.',\n",
        "        'A romantic novel that critiques the British landed gentry at the end of the 18th century.',\n",
        "        'A story about a young boy named Holden Caulfield and his experiences in New York City.'\n",
        "    ]\n",
        "}\n",
        "\n",
        "books_df = pd.DataFrame(books_data)\n",
        "print(books_df)"
      ],
      "metadata": {
        "colab": {
          "base_uri": "https://localhost:8080/"
        },
        "id": "uV2f1nUK2t_f",
        "outputId": "0cf99cfd-1158-4dc7-dda9-d158745738ec"
      },
      "execution_count": null,
      "outputs": [
        {
          "output_type": "stream",
          "name": "stdout",
          "text": [
            "                    title               author      genre  \\\n",
            "0        The Great Gatsby  F. Scott Fitzgerald    Fiction   \n",
            "1   To Kill a Mockingbird           Harper Lee    Fiction   \n",
            "2                    1984        George Orwell  Dystopian   \n",
            "3     Pride and Prejudice          Jane Austen    Romance   \n",
            "4  The Catcher in the Rye        J.D. Salinger    Fiction   \n",
            "\n",
            "                                         description  \n",
            "0  A novel set in the 1920s about the mysterious ...  \n",
            "1  A novel about the serious issues of rape and r...  \n",
            "2  A dystopian novel set in a totalitarian societ...  \n",
            "3  A romantic novel that critiques the British la...  \n",
            "4  A story about a young boy named Holden Caulfie...  \n"
          ]
        }
      ]
    },
    {
      "cell_type": "markdown",
      "source": [
        "**1.Convert a column to lowercase.**"
      ],
      "metadata": {
        "id": "eEZduVY4WvUz"
      }
    },
    {
      "cell_type": "code",
      "source": [
        "books_df['title_lower'] = books_df['title'].str.lower()\n",
        "print(books_df[['title', 'title_lower']])"
      ],
      "metadata": {
        "id": "LjyW1CEZXg1g",
        "colab": {
          "base_uri": "https://localhost:8080/"
        },
        "outputId": "70eee571-9cb5-4a52-cea9-2460bb33a2c2"
      },
      "execution_count": null,
      "outputs": [
        {
          "output_type": "stream",
          "name": "stdout",
          "text": [
            "                    title             title_lower\n",
            "0        The Great Gatsby        the great gatsby\n",
            "1   To Kill a Mockingbird   to kill a mockingbird\n",
            "2                    1984                    1984\n",
            "3     Pride and Prejudice     pride and prejudice\n",
            "4  The Catcher in the Rye  the catcher in the rye\n"
          ]
        }
      ]
    },
    {
      "cell_type": "markdown",
      "source": [
        "**2. Split a column into multiple columns.**"
      ],
      "metadata": {
        "id": "BzS6mSOGW_xE"
      }
    },
    {
      "cell_type": "code",
      "source": [
        "books_df[['first_name', 'middle_name', 'last_name']] = books_df['author'].str.split(' ', n=2, expand=True)\n",
        "print(books_df[['author', 'first_name', 'middle_name', 'last_name']])"
      ],
      "metadata": {
        "id": "9ebxJ4_FXoXr",
        "colab": {
          "base_uri": "https://localhost:8080/"
        },
        "outputId": "ee5eead8-c794-4b66-ddda-49147829531b"
      },
      "execution_count": null,
      "outputs": [
        {
          "output_type": "stream",
          "name": "stdout",
          "text": [
            "                author first_name middle_name   last_name\n",
            "0  F. Scott Fitzgerald         F.       Scott  Fitzgerald\n",
            "1           Harper Lee     Harper         Lee        None\n",
            "2        George Orwell     George      Orwell        None\n",
            "3          Jane Austen       Jane      Austen        None\n",
            "4        J.D. Salinger       J.D.    Salinger        None\n"
          ]
        }
      ]
    },
    {
      "cell_type": "markdown",
      "source": [
        "**3. Concatenate text columns.**"
      ],
      "metadata": {
        "id": "JNcEyXXoW_0X"
      }
    },
    {
      "cell_type": "code",
      "source": [
        "books_df['author_full'] = books_df['first_name'] + ' ' + books_df['middle_name'].fillna('') + ' ' + books_df['last_name']\n",
        "books_df['author_full'] = books_df['author_full'].str.strip()\n",
        "print(books_df[['first_name', 'middle_name', 'last_name', 'author_full']])"
      ],
      "metadata": {
        "id": "ucQnMI_BXsAK",
        "colab": {
          "base_uri": "https://localhost:8080/"
        },
        "outputId": "29991df2-2771-426a-8289-5fd04285a319"
      },
      "execution_count": null,
      "outputs": [
        {
          "output_type": "stream",
          "name": "stdout",
          "text": [
            "  first_name middle_name   last_name          author_full\n",
            "0         F.       Scott  Fitzgerald  F. Scott Fitzgerald\n",
            "1     Harper         Lee        None                  NaN\n",
            "2     George      Orwell        None                  NaN\n",
            "3       Jane      Austen        None                  NaN\n",
            "4       J.D.    Salinger        None                  NaN\n"
          ]
        }
      ]
    },
    {
      "cell_type": "markdown",
      "source": [
        "**4. Extract substrings from a column.**"
      ],
      "metadata": {
        "id": "YKnjqU7MW_3R"
      }
    },
    {
      "cell_type": "code",
      "source": [
        "books_df['title_substr'] = books_df['title'].str[0:5]  # Extract first 5 characters\n",
        "print(books_df[['title', 'title_substr']])"
      ],
      "metadata": {
        "id": "tSbk1oGAXvaz",
        "colab": {
          "base_uri": "https://localhost:8080/"
        },
        "outputId": "448e2dc1-fc7b-4d6f-e2a0-b071ff4042ab"
      },
      "execution_count": null,
      "outputs": [
        {
          "output_type": "stream",
          "name": "stdout",
          "text": [
            "                    title title_substr\n",
            "0        The Great Gatsby        The G\n",
            "1   To Kill a Mockingbird        To Ki\n",
            "2                    1984         1984\n",
            "3     Pride and Prejudice        Pride\n",
            "4  The Catcher in the Rye        The C\n"
          ]
        }
      ]
    },
    {
      "cell_type": "markdown",
      "source": [
        "**5. Remove whitespace from text data.**"
      ],
      "metadata": {
        "id": "BdPY7W5eW_6K"
      }
    },
    {
      "cell_type": "code",
      "source": [
        "books_df['author_trimmed'] = books_df['author'].str.strip()\n",
        "print(books_df[['author', 'author_trimmed']])\n"
      ],
      "metadata": {
        "id": "bCry0CgqXxcJ",
        "colab": {
          "base_uri": "https://localhost:8080/"
        },
        "outputId": "735bfda6-6cfb-4390-ae2b-590176366642"
      },
      "execution_count": null,
      "outputs": [
        {
          "output_type": "stream",
          "name": "stdout",
          "text": [
            "                author       author_trimmed\n",
            "0  F. Scott Fitzgerald  F. Scott Fitzgerald\n",
            "1           Harper Lee           Harper Lee\n",
            "2        George Orwell        George Orwell\n",
            "3          Jane Austen          Jane Austen\n",
            "4        J.D. Salinger        J.D. Salinger\n"
          ]
        }
      ]
    },
    {
      "cell_type": "markdown",
      "source": [
        "**6. Replace text in a column.**"
      ],
      "metadata": {
        "id": "rLhfIOnIW_9b"
      }
    },
    {
      "cell_type": "code",
      "source": [
        "books_df['title_replaced'] = books_df['title'].str.replace('The', 'A', case=False)\n",
        "print(books_df[['title', 'title_replaced']])\n"
      ],
      "metadata": {
        "id": "4QA0tTaUXyop",
        "colab": {
          "base_uri": "https://localhost:8080/"
        },
        "outputId": "b86e100e-8307-4f7f-dc33-e277fd77f33c"
      },
      "execution_count": null,
      "outputs": [
        {
          "output_type": "stream",
          "name": "stdout",
          "text": [
            "                    title         title_replaced\n",
            "0        The Great Gatsby         A Great Gatsby\n",
            "1   To Kill a Mockingbird  To Kill a Mockingbird\n",
            "2                    1984                   1984\n",
            "3     Pride and Prejudice    Pride and Prejudice\n",
            "4  The Catcher in the Rye     A Catcher in A Rye\n"
          ]
        }
      ]
    },
    {
      "cell_type": "markdown",
      "source": [
        "**7. Find the length of text in a column.**"
      ],
      "metadata": {
        "id": "9a-TUiAoXTJt"
      }
    },
    {
      "cell_type": "code",
      "source": [
        "books_df['title_length'] = books_df['title'].str.len()\n",
        "print(books_df[['title', 'title_length']])\n"
      ],
      "metadata": {
        "colab": {
          "base_uri": "https://localhost:8080/"
        },
        "id": "n0fo7KVzXzVd",
        "outputId": "432c6dbe-6b72-4cbf-f012-babe37112029"
      },
      "execution_count": null,
      "outputs": [
        {
          "output_type": "stream",
          "name": "stdout",
          "text": [
            "                    title  title_length\n",
            "0        The Great Gatsby            16\n",
            "1   To Kill a Mockingbird            21\n",
            "2                    1984             4\n",
            "3     Pride and Prejudice            19\n",
            "4  The Catcher in the Rye            22\n"
          ]
        }
      ]
    },
    {
      "cell_type": "markdown",
      "source": [
        "**8. Count occurrences of a substring in a column.**"
      ],
      "metadata": {
        "id": "RoYNvVw9XTM9"
      }
    },
    {
      "cell_type": "code",
      "source": [
        "books_df['a_count'] = books_df['description'].str.count('a')\n",
        "print(books_df[['description', 'a_count']])"
      ],
      "metadata": {
        "id": "C3K67-KdXz1o",
        "colab": {
          "base_uri": "https://localhost:8080/"
        },
        "outputId": "b0ef5656-3170-48b3-a333-6e7173edca0e"
      },
      "execution_count": null,
      "outputs": [
        {
          "output_type": "stream",
          "name": "stdout",
          "text": [
            "                                         description  a_count\n",
            "0  A novel set in the 1920s about the mysterious ...        3\n",
            "1  A novel about the serious issues of rape and r...        6\n",
            "2  A dystopian novel set in a totalitarian societ...        7\n",
            "3  A romantic novel that critiques the British la...        4\n",
            "4  A story about a young boy named Holden Caulfie...        5\n"
          ]
        }
      ]
    },
    {
      "cell_type": "markdown",
      "source": [
        "**9. Filter rows containing a specific substring.**"
      ],
      "metadata": {
        "id": "bwB9qUewXTQJ"
      }
    },
    {
      "cell_type": "code",
      "source": [
        "filter_mask = books_df['description'].str.contains('dystopian', case=False)\n",
        "dystopian_books = books_df[filter_mask]\n",
        "print(dystopian_books)\n"
      ],
      "metadata": {
        "id": "kQzHl0Y0X0cs",
        "colab": {
          "base_uri": "https://localhost:8080/"
        },
        "outputId": "4ada057c-fa10-44e0-d086-d95c8a4ecaa3"
      },
      "execution_count": null,
      "outputs": [
        {
          "output_type": "stream",
          "name": "stdout",
          "text": [
            "  title         author      genre  \\\n",
            "2  1984  George Orwell  Dystopian   \n",
            "\n",
            "                                         description title_lower title_substr  \\\n",
            "2  A dystopian novel set in a totalitarian societ...        1984         1984   \n",
            "\n",
            "  author_trimmed title_replaced  title_length  a_count  \n",
            "2  George Orwell           1984             4        7  \n"
          ]
        }
      ]
    },
    {
      "cell_type": "markdown",
      "source": [
        "**10. Apply a custom text function to a column.**"
      ],
      "metadata": {
        "id": "3lTgH8SXXTV2"
      }
    },
    {
      "cell_type": "code",
      "source": [
        "def custom_text_function(text):\n",
        "    return text[::-1]  # Example function that reverses the text\n",
        "\n",
        "books_df['title_reversed'] = books_df['title'].apply(custom_text_function)\n",
        "print(books_df[['title', 'title_reversed']])\n",
        "\n"
      ],
      "metadata": {
        "id": "Tp7fzeF0XfWl",
        "colab": {
          "base_uri": "https://localhost:8080/"
        },
        "outputId": "4e3ba4c6-a239-4ef7-f9f0-9911f5717fc0"
      },
      "execution_count": null,
      "outputs": [
        {
          "output_type": "stream",
          "name": "stdout",
          "text": [
            "                    title          title_reversed\n",
            "0        The Great Gatsby        ybstaG taerG ehT\n",
            "1   To Kill a Mockingbird   dribgnikcoM a lliK oT\n",
            "2                    1984                    4891\n",
            "3     Pride and Prejudice     ecidujerP dna edirP\n",
            "4  The Catcher in the Rye  eyR eht ni rehctaC ehT\n"
          ]
        }
      ]
    }
  ]
}