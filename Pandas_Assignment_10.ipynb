{
  "nbformat": 4,
  "nbformat_minor": 0,
  "metadata": {
    "colab": {
      "provenance": []
    },
    "kernelspec": {
      "name": "python3",
      "display_name": "Python 3"
    },
    "language_info": {
      "name": "python"
    }
  },
  "cells": [
    {
      "cell_type": "code",
      "source": [
        "import pandas as pd\n",
        "import numpy as np\n",
        "\n",
        "# Create a sample dataset\n",
        "np.random.seed(0)\n",
        "data = {\n",
        "    'id': np.arange(1, 100001),\n",
        "    'name': np.random.choice(['Alice', 'Bob', 'Charlie', 'David', 'Eva'], 100000),\n",
        "    'age': np.random.randint(18, 80, size=100000),\n",
        "    'salary': np.random.uniform(30000, 120000, size=100000),\n",
        "    'department': np.random.choice(['HR', 'Engineering', 'Marketing', 'Sales'], 100000)\n",
        "}\n",
        "df = pd.DataFrame(data)\n"
      ],
      "metadata": {
        "id": "uV2f1nUK2t_f"
      },
      "execution_count": 1,
      "outputs": []
    },
    {
      "cell_type": "markdown",
      "source": [
        "**1.Measure the execution time of a DataFrame operation.**"
      ],
      "metadata": {
        "id": "eEZduVY4WvUz"
      }
    },
    {
      "cell_type": "code",
      "source": [
        "import time\n",
        "\n",
        "# Measure execution time of a DataFrame operation\n",
        "start_time = time.time()\n",
        "df['salary_increase'] = df['salary'] * 1.05\n",
        "end_time = time.time()\n",
        "print(f\"Execution time: {end_time - start_time} seconds\")\n"
      ],
      "metadata": {
        "id": "LjyW1CEZXg1g",
        "colab": {
          "base_uri": "https://localhost:8080/"
        },
        "outputId": "11dc312e-b4f3-42ea-f462-7cf76b0e875f"
      },
      "execution_count": 2,
      "outputs": [
        {
          "output_type": "stream",
          "name": "stdout",
          "text": [
            "Execution time: 0.020416736602783203 seconds\n"
          ]
        }
      ]
    },
    {
      "cell_type": "markdown",
      "source": [
        "**2. Use vectorized operations instead of loops.**"
      ],
      "metadata": {
        "id": "BzS6mSOGW_xE"
      }
    },
    {
      "cell_type": "code",
      "source": [
        "# Using vectorized operations instead of loops\n",
        "df['new_salary'] = df['salary'] * 1.05\n"
      ],
      "metadata": {
        "id": "9ebxJ4_FXoXr"
      },
      "execution_count": 3,
      "outputs": []
    },
    {
      "cell_type": "markdown",
      "source": [
        "**3. Optimize memory usage by changing data types.**"
      ],
      "metadata": {
        "id": "JNcEyXXoW_0X"
      }
    },
    {
      "cell_type": "code",
      "source": [
        "# Optimize memory usage by changing data types\n",
        "df['id'] = df['id'].astype('int32')\n",
        "df['age'] = df['age'].astype('int8')\n",
        "df['salary'] = df['salary'].astype('float32')\n",
        "print(df.info())\n"
      ],
      "metadata": {
        "id": "ucQnMI_BXsAK",
        "colab": {
          "base_uri": "https://localhost:8080/"
        },
        "outputId": "c177945d-abda-45c0-b1c5-38e7f47f49ef"
      },
      "execution_count": 4,
      "outputs": [
        {
          "output_type": "stream",
          "name": "stdout",
          "text": [
            "<class 'pandas.core.frame.DataFrame'>\n",
            "RangeIndex: 100000 entries, 0 to 99999\n",
            "Data columns (total 7 columns):\n",
            " #   Column           Non-Null Count   Dtype  \n",
            "---  ------           --------------   -----  \n",
            " 0   id               100000 non-null  int32  \n",
            " 1   name             100000 non-null  object \n",
            " 2   age              100000 non-null  int8   \n",
            " 3   salary           100000 non-null  float32\n",
            " 4   department       100000 non-null  object \n",
            " 5   salary_increase  100000 non-null  float64\n",
            " 6   new_salary       100000 non-null  float64\n",
            "dtypes: float32(1), float64(2), int32(1), int8(1), object(2)\n",
            "memory usage: 3.9+ MB\n",
            "None\n"
          ]
        }
      ]
    },
    {
      "cell_type": "markdown",
      "source": [
        "**4. Load data in chunks to save memory.**"
      ],
      "metadata": {
        "id": "YKnjqU7MW_3R"
      }
    },
    {
      "cell_type": "code",
      "source": [
        "import pandas as pd\n",
        "\n",
        "# Define the chunk size\n",
        "chunk_size = 20000\n",
        "\n",
        "# Initialize an empty list to store chunks\n",
        "chunks = []\n",
        "\n",
        "# Load the CSV file in chunks\n",
        "for chunk in pd.read_csv('large_dataset.csv', chunksize=chunk_size):\n",
        "    # Process each chunk (e.g., filtering, aggregation)\n",
        "    chunks.append(chunk)\n",
        "\n",
        "# Concatenate all chunks into a single DataFrame\n",
        "df_large = pd.concat(chunks)\n",
        "\n",
        "# Display the first few rows of the concatenated DataFrame\n",
        "print(df_large.head())\n"
      ],
      "metadata": {
        "id": "tSbk1oGAXvaz"
      },
      "execution_count": null,
      "outputs": []
    },
    {
      "cell_type": "markdown",
      "source": [
        "**5. Use categorical data types to save memory.**"
      ],
      "metadata": {
        "id": "BdPY7W5eW_6K"
      }
    },
    {
      "cell_type": "code",
      "source": [
        "# Use categorical data types to save memory\n",
        "df['name'] = df['name'].astype('category')\n",
        "df['department'] = df['department'].astype('category')\n",
        "print(df.info())\n"
      ],
      "metadata": {
        "id": "bCry0CgqXxcJ",
        "colab": {
          "base_uri": "https://localhost:8080/"
        },
        "outputId": "c4273f26-51fe-44b4-ae1c-251acfe9229b"
      },
      "execution_count": 6,
      "outputs": [
        {
          "output_type": "stream",
          "name": "stdout",
          "text": [
            "<class 'pandas.core.frame.DataFrame'>\n",
            "RangeIndex: 100000 entries, 0 to 99999\n",
            "Data columns (total 7 columns):\n",
            " #   Column           Non-Null Count   Dtype   \n",
            "---  ------           --------------   -----   \n",
            " 0   id               100000 non-null  int32   \n",
            " 1   name             100000 non-null  category\n",
            " 2   age              100000 non-null  int8    \n",
            " 3   salary           100000 non-null  float32 \n",
            " 4   department       100000 non-null  category\n",
            " 5   salary_increase  100000 non-null  float64 \n",
            " 6   new_salary       100000 non-null  float64 \n",
            "dtypes: category(2), float32(1), float64(2), int32(1), int8(1)\n",
            "memory usage: 2.6 MB\n",
            "None\n"
          ]
        }
      ]
    },
    {
      "cell_type": "markdown",
      "source": [
        "**6. Apply parallel processing for DataFrame operations.**"
      ],
      "metadata": {
        "id": "rLhfIOnIW_9b"
      }
    },
    {
      "cell_type": "code",
      "source": [
        "import pandas as pd\n",
        "import numpy as np\n",
        "from joblib import Parallel, delayed\n",
        "\n",
        "# Sample data\n",
        "np.random.seed(0)\n",
        "data = {\n",
        "    'id': np.arange(1, 100001),\n",
        "    'name': np.random.choice(['Alice', 'Bob', 'Charlie', 'David', 'Eva'], 100000),\n",
        "    'age': np.random.randint(18, 80, size=100000),\n",
        "    'salary': np.random.uniform(30000, 120000, size=100000),\n",
        "    'department': np.random.choice(['HR', 'Engineering', 'Marketing', 'Sales'], 100000)\n",
        "}\n",
        "df = pd.DataFrame(data)\n",
        "\n",
        "# Define the function to be applied in parallel\n",
        "def increase_salary(salary):\n",
        "    return salary * 1.05\n",
        "\n",
        "# Apply the function in parallel\n",
        "num_cores = -1  # Use all available cores\n",
        "df['parallel_new_salary'] = Parallel(n_jobs=num_cores)(delayed(increase_salary)(s) for s in df['salary'])\n",
        "\n",
        "# Display the first few rows\n",
        "print(df.head())\n"
      ],
      "metadata": {
        "id": "4QA0tTaUXyop",
        "colab": {
          "base_uri": "https://localhost:8080/"
        },
        "outputId": "91c92a9f-1cb2-4ae5-e9b8-8557432767dd"
      },
      "execution_count": 14,
      "outputs": [
        {
          "output_type": "stream",
          "name": "stdout",
          "text": [
            "   id   name  age         salary   department  parallel_new_salary\n",
            "0   1    Eva   40   76893.998807    Marketing         80738.698748\n",
            "1   2  Alice   21   49386.795868        Sales         51856.135662\n",
            "2   3  David   73  119799.220312  Engineering        125789.181327\n",
            "3   4  David   64   72567.683648    Marketing         76196.067830\n",
            "4   5  David   20   50129.425674    Marketing         52635.896958\n"
          ]
        }
      ]
    },
    {
      "cell_type": "markdown",
      "source": [
        "**7. Profile memory usage of a DataFrame.**"
      ],
      "metadata": {
        "id": "9a-TUiAoXTJt"
      }
    },
    {
      "cell_type": "code",
      "source": [
        "import pandas as pd\n",
        "import numpy as np\n",
        "from memory_profiler import profile\n",
        "\n",
        "# Sample data generation function\n",
        "@profile\n",
        "def load_data():\n",
        "    np.random.seed(0)\n",
        "    data = {\n",
        "        'id': np.arange(1, 100001),\n",
        "        'name': np.random.choice(['Alice', 'Bob', 'Charlie', 'David', 'Eva'], 100000),\n",
        "        'age': np.random.randint(18, 80, size=100000),\n",
        "        'salary': np.random.uniform(30000, 120000, size=100000),\n",
        "        'department': np.random.choice(['HR', 'Engineering', 'Marketing', 'Sales'], 100000)\n",
        "    }\n",
        "    df = pd.DataFrame(data)\n",
        "    return df\n",
        "\n",
        "# Load data and profile memory usage\n",
        "df = load_data()\n",
        "\n",
        "# Display the first few rows\n",
        "print(df.head())\n"
      ],
      "metadata": {
        "id": "n0fo7KVzXzVd"
      },
      "execution_count": null,
      "outputs": []
    },
    {
      "cell_type": "markdown",
      "source": [
        "**8. Optimize large DataFrame merging.**"
      ],
      "metadata": {
        "id": "RoYNvVw9XTM9"
      }
    },
    {
      "cell_type": "code",
      "source": [
        "# Create another sample DataFrame to merge\n",
        "df2 = pd.DataFrame({\n",
        "    'id': np.arange(1, 100001),\n",
        "    'bonus': np.random.uniform(1000, 5000, size=100000)\n",
        "})\n",
        "\n",
        "# Optimize large DataFrame merging\n",
        "df_merged = df.merge(df2, on='id', how='left')\n",
        "print(df_merged.head())\n"
      ],
      "metadata": {
        "id": "C3K67-KdXz1o",
        "colab": {
          "base_uri": "https://localhost:8080/"
        },
        "outputId": "8546aea8-c5f6-4851-c64d-330672d33122"
      },
      "execution_count": 9,
      "outputs": [
        {
          "output_type": "stream",
          "name": "stdout",
          "text": [
            "   id   name  age         salary   department  salary_increase     new_salary  \\\n",
            "0   1    Eva   40   76894.000000    Marketing     80738.698748   80738.698748   \n",
            "1   2  Alice   21   49386.796875        Sales     51856.135662   51856.135662   \n",
            "2   3  David   73  119799.218750  Engineering    125789.181327  125789.181327   \n",
            "3   4  David   64   72567.687500    Marketing     76196.067830   76196.067830   \n",
            "4   5  David   20   50129.425781    Marketing     52635.896958   52635.896958   \n",
            "\n",
            "         bonus  \n",
            "0  2855.663384  \n",
            "1  1735.434926  \n",
            "2  2158.926010  \n",
            "3  4796.768889  \n",
            "4  3944.317652  \n"
          ]
        }
      ]
    },
    {
      "cell_type": "markdown",
      "source": [
        "**9. Use sparse data structures for memory efficiency.**"
      ],
      "metadata": {
        "id": "bwB9qUewXTQJ"
      }
    },
    {
      "cell_type": "code",
      "source": [
        "# Use sparse data structures for memory efficiency\n",
        "df_sparse = df.copy()\n",
        "df_sparse['salary'] = pd.arrays.SparseArray(df_sparse['salary'])\n",
        "print(df_sparse.info())\n"
      ],
      "metadata": {
        "id": "kQzHl0Y0X0cs",
        "colab": {
          "base_uri": "https://localhost:8080/"
        },
        "outputId": "279a6d89-5962-4e70-8399-79014283acea"
      },
      "execution_count": 10,
      "outputs": [
        {
          "output_type": "stream",
          "name": "stdout",
          "text": [
            "<class 'pandas.core.frame.DataFrame'>\n",
            "RangeIndex: 100000 entries, 0 to 99999\n",
            "Data columns (total 7 columns):\n",
            " #   Column           Non-Null Count   Dtype               \n",
            "---  ------           --------------   -----               \n",
            " 0   id               100000 non-null  int32               \n",
            " 1   name             100000 non-null  category            \n",
            " 2   age              100000 non-null  int8                \n",
            " 3   salary           100000 non-null  Sparse[float32, nan]\n",
            " 4   department       100000 non-null  category            \n",
            " 5   salary_increase  100000 non-null  float64             \n",
            " 6   new_salary       100000 non-null  float64             \n",
            "dtypes: Sparse[float32, nan](1), category(2), float64(2), int32(1), int8(1)\n",
            "memory usage: 3.0 MB\n",
            "None\n"
          ]
        }
      ]
    },
    {
      "cell_type": "markdown",
      "source": [
        "**10. Use efficient file formats for saving large DataFrames.**"
      ],
      "metadata": {
        "id": "3lTgH8SXXTV2"
      }
    },
    {
      "cell_type": "code",
      "source": [
        "# Save DataFrame in efficient file formats\n",
        "df.to_parquet('data.parquet')\n",
        "df.to_feather('data.feather')\n"
      ],
      "metadata": {
        "id": "Tp7fzeF0XfWl"
      },
      "execution_count": 12,
      "outputs": []
    }
  ]
}