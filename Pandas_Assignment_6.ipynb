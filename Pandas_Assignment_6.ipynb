{
  "nbformat": 4,
  "nbformat_minor": 0,
  "metadata": {
    "colab": {
      "provenance": []
    },
    "kernelspec": {
      "name": "python3",
      "display_name": "Python 3"
    },
    "language_info": {
      "name": "python"
    }
  },
  "cells": [
    {
      "cell_type": "code",
      "source": [
        "import pandas as pd\n",
        "import numpy as np\n",
        "\n",
        "# Generate date range\n",
        "date_range = pd.date_range(start='2023-01-01', end='2023-01-31')\n",
        "\n",
        "# Create a DataFrame with random stock prices for three companies\n",
        "np.random.seed(42)\n",
        "data = {\n",
        "    'date': date_range.tolist() * 3,\n",
        "    'company': ['CompanyA']*31 + ['CompanyB']*31 + ['CompanyC']*31,\n",
        "    'price': np.random.normal(loc=100, scale=10, size=31).tolist() +\n",
        "             np.random.normal(loc=200, scale=20, size=31).tolist() +\n",
        "             np.random.normal(loc=300, scale=30, size=31).tolist()\n",
        "}\n",
        "\n",
        "df = pd.DataFrame(data)\n",
        "print(df)\n"
      ],
      "metadata": {
        "colab": {
          "base_uri": "https://localhost:8080/"
        },
        "id": "uV2f1nUK2t_f",
        "outputId": "1597a64a-d445-4461-9a75-e99703d31aa9"
      },
      "execution_count": 3,
      "outputs": [
        {
          "output_type": "stream",
          "name": "stdout",
          "text": [
            "         date   company       price\n",
            "0  2023-01-01  CompanyA  104.967142\n",
            "1  2023-01-02  CompanyA   98.617357\n",
            "2  2023-01-03  CompanyA  106.476885\n",
            "3  2023-01-04  CompanyA  115.230299\n",
            "4  2023-01-05  CompanyA   97.658466\n",
            "..        ...       ...         ...\n",
            "88 2023-01-27  CompanyC  284.107194\n",
            "89 2023-01-28  CompanyC  315.398023\n",
            "90 2023-01-29  CompanyC  302.912326\n",
            "91 2023-01-30  CompanyC  329.059350\n",
            "92 2023-01-31  CompanyC  278.938407\n",
            "\n",
            "[93 rows x 3 columns]\n"
          ]
        }
      ]
    },
    {
      "cell_type": "markdown",
      "source": [
        "**1.Convert a column to datetime:**"
      ],
      "metadata": {
        "id": "eEZduVY4WvUz"
      }
    },
    {
      "cell_type": "code",
      "source": [
        "df['date'] = pd.to_datetime(df['date'])\n",
        "print(df.dtypes)\n"
      ],
      "metadata": {
        "id": "LjyW1CEZXg1g",
        "colab": {
          "base_uri": "https://localhost:8080/"
        },
        "outputId": "4d97238f-feb5-4072-f853-fddbabce6484"
      },
      "execution_count": 4,
      "outputs": [
        {
          "output_type": "stream",
          "name": "stdout",
          "text": [
            "date       datetime64[ns]\n",
            "company            object\n",
            "price             float64\n",
            "dtype: object\n"
          ]
        }
      ]
    },
    {
      "cell_type": "markdown",
      "source": [
        "**2. Set a datetime column as the index:**"
      ],
      "metadata": {
        "id": "BzS6mSOGW_xE"
      }
    },
    {
      "cell_type": "code",
      "source": [
        "df.set_index('date', inplace=True)\n",
        "print(df.head())\n"
      ],
      "metadata": {
        "id": "9ebxJ4_FXoXr",
        "colab": {
          "base_uri": "https://localhost:8080/"
        },
        "outputId": "7a4f4636-c627-491d-9bdc-2b9fcf90e6f7"
      },
      "execution_count": 6,
      "outputs": [
        {
          "output_type": "stream",
          "name": "stdout",
          "text": [
            "             company       price\n",
            "date                            \n",
            "2023-01-01  CompanyA  104.967142\n",
            "2023-01-02  CompanyA   98.617357\n",
            "2023-01-03  CompanyA  106.476885\n",
            "2023-01-04  CompanyA  115.230299\n",
            "2023-01-05  CompanyA   97.658466\n"
          ]
        }
      ]
    },
    {
      "cell_type": "markdown",
      "source": [
        "**3. Resample the time series data to a different frequency:**"
      ],
      "metadata": {
        "id": "JNcEyXXoW_0X"
      }
    },
    {
      "cell_type": "code",
      "source": [
        "monthly_avg = df.resample('M').mean()\n",
        "print(monthly_avg)\n"
      ],
      "metadata": {
        "id": "ucQnMI_BXsAK"
      },
      "execution_count": null,
      "outputs": []
    },
    {
      "cell_type": "markdown",
      "source": [
        "**4. Calculate the rolling mean:**"
      ],
      "metadata": {
        "id": "YKnjqU7MW_3R"
      }
    },
    {
      "cell_type": "code",
      "source": [
        "df['rolling_mean'] = df['price'].rolling(window=7).mean()\n",
        "print(df.head(15))\n"
      ],
      "metadata": {
        "id": "tSbk1oGAXvaz",
        "colab": {
          "base_uri": "https://localhost:8080/"
        },
        "outputId": "11678860-7c15-4dfa-e0ca-54eeecda88ba"
      },
      "execution_count": 8,
      "outputs": [
        {
          "output_type": "stream",
          "name": "stdout",
          "text": [
            "             company       price  rolling_mean\n",
            "date                                          \n",
            "2023-01-01  CompanyA  104.967142           NaN\n",
            "2023-01-02  CompanyA   98.617357           NaN\n",
            "2023-01-03  CompanyA  106.476885           NaN\n",
            "2023-01-04  CompanyA  115.230299           NaN\n",
            "2023-01-05  CompanyA   97.658466           NaN\n",
            "2023-01-06  CompanyA   97.658630           NaN\n",
            "2023-01-07  CompanyA  115.792128    105.200130\n",
            "2023-01-08  CompanyA  107.674347    105.586873\n",
            "2023-01-09  CompanyA   95.305256    105.113716\n",
            "2023-01-10  CompanyA  105.425600    104.963532\n",
            "2023-01-11  CompanyA   95.365823    102.125750\n",
            "2023-01-12  CompanyA   95.342702    101.794927\n",
            "2023-01-13  CompanyA  102.419623    102.475069\n",
            "2023-01-14  CompanyA   80.867198     97.485793\n",
            "2023-01-15  CompanyA   82.750822     93.925289\n"
          ]
        }
      ]
    },
    {
      "cell_type": "markdown",
      "source": [
        "**5. Calculate the rolling sum:**"
      ],
      "metadata": {
        "id": "BdPY7W5eW_6K"
      }
    },
    {
      "cell_type": "code",
      "source": [
        "df['rolling_sum'] = df['price'].rolling(window=7).sum()\n",
        "print(df.head(15))\n"
      ],
      "metadata": {
        "id": "bCry0CgqXxcJ",
        "colab": {
          "base_uri": "https://localhost:8080/"
        },
        "outputId": "b10db583-e184-4c90-f742-196b27e24ec2"
      },
      "execution_count": 9,
      "outputs": [
        {
          "output_type": "stream",
          "name": "stdout",
          "text": [
            "             company       price  rolling_mean  rolling_sum\n",
            "date                                                       \n",
            "2023-01-01  CompanyA  104.967142           NaN          NaN\n",
            "2023-01-02  CompanyA   98.617357           NaN          NaN\n",
            "2023-01-03  CompanyA  106.476885           NaN          NaN\n",
            "2023-01-04  CompanyA  115.230299           NaN          NaN\n",
            "2023-01-05  CompanyA   97.658466           NaN          NaN\n",
            "2023-01-06  CompanyA   97.658630           NaN          NaN\n",
            "2023-01-07  CompanyA  115.792128    105.200130   736.400907\n",
            "2023-01-08  CompanyA  107.674347    105.586873   739.108113\n",
            "2023-01-09  CompanyA   95.305256    105.113716   735.796012\n",
            "2023-01-10  CompanyA  105.425600    104.963532   734.744727\n",
            "2023-01-11  CompanyA   95.365823    102.125750   714.880252\n",
            "2023-01-12  CompanyA   95.342702    101.794927   712.564488\n",
            "2023-01-13  CompanyA  102.419623    102.475069   717.325480\n",
            "2023-01-14  CompanyA   80.867198     97.485793   682.400550\n",
            "2023-01-15  CompanyA   82.750822     93.925289   657.477024\n"
          ]
        }
      ]
    },
    {
      "cell_type": "markdown",
      "source": [
        "**6. Calculate the cumulative sum:**"
      ],
      "metadata": {
        "id": "rLhfIOnIW_9b"
      }
    },
    {
      "cell_type": "code",
      "source": [
        "df['cumulative_sum'] = df['price'].cumsum()\n",
        "print(df.head())\n"
      ],
      "metadata": {
        "id": "4QA0tTaUXyop",
        "colab": {
          "base_uri": "https://localhost:8080/"
        },
        "outputId": "b9798cf2-3056-4d34-c41a-81be369f86c7"
      },
      "execution_count": 10,
      "outputs": [
        {
          "output_type": "stream",
          "name": "stdout",
          "text": [
            "             company       price  rolling_mean  rolling_sum  cumulative_sum\n",
            "date                                                                       \n",
            "2023-01-01  CompanyA  104.967142           NaN          NaN      104.967142\n",
            "2023-01-02  CompanyA   98.617357           NaN          NaN      203.584499\n",
            "2023-01-03  CompanyA  106.476885           NaN          NaN      310.061384\n",
            "2023-01-04  CompanyA  115.230299           NaN          NaN      425.291682\n",
            "2023-01-05  CompanyA   97.658466           NaN          NaN      522.950149\n"
          ]
        }
      ]
    },
    {
      "cell_type": "markdown",
      "source": [
        "**7. Plot a time series data:**"
      ],
      "metadata": {
        "id": "9a-TUiAoXTJt"
      }
    },
    {
      "cell_type": "code",
      "source": [
        "import matplotlib.pyplot as plt\n",
        "df['price'].plot(title='Stock Price Over Time')\n",
        "plt.xlabel('Date')\n",
        "plt.ylabel('Price')\n",
        "plt.show()\n"
      ],
      "metadata": {
        "colab": {
          "base_uri": "https://localhost:8080/",
          "height": 467
        },
        "id": "n0fo7KVzXzVd",
        "outputId": "16271657-8cce-433a-c132-2655c9f6effe"
      },
      "execution_count": 11,
      "outputs": [
        {
          "output_type": "display_data",
          "data": {
            "text/plain": [
              "<Figure size 640x480 with 1 Axes>"
            ],
            "image/png": "[encoded data removed]"
          },
          "metadata": {}
        }
      ]
    },
    {
      "cell_type": "markdown",
      "source": [
        "**8. Handle missing dates in time series:**"
      ],
      "metadata": {
        "id": "RoYNvVw9XTM9"
      }
    },
    {
      "cell_type": "code",
      "source": [
        "df_asfreq = df.asfreq('D').fillna(method='ffill')\n",
        "print(df_asfreq.head(15))\n"
      ],
      "metadata": {
        "id": "C3K67-KdXz1o"
      },
      "execution_count": null,
      "outputs": []
    },
    {
      "cell_type": "markdown",
      "source": [
        "**9. Shift the time series data:**"
      ],
      "metadata": {
        "id": "bwB9qUewXTQJ"
      }
    },
    {
      "cell_type": "code",
      "source": [
        "df['price_shifted'] = df['price'].shift(1)\n",
        "print(df.head())\n"
      ],
      "metadata": {
        "id": "kQzHl0Y0X0cs",
        "colab": {
          "base_uri": "https://localhost:8080/"
        },
        "outputId": "eb41acf2-1226-48a6-c68c-dc2e5f249efc"
      },
      "execution_count": 13,
      "outputs": [
        {
          "output_type": "stream",
          "name": "stdout",
          "text": [
            "             company       price  rolling_mean  rolling_sum  cumulative_sum  \\\n",
            "date                                                                          \n",
            "2023-01-01  CompanyA  104.967142           NaN          NaN      104.967142   \n",
            "2023-01-02  CompanyA   98.617357           NaN          NaN      203.584499   \n",
            "2023-01-03  CompanyA  106.476885           NaN          NaN      310.061384   \n",
            "2023-01-04  CompanyA  115.230299           NaN          NaN      425.291682   \n",
            "2023-01-05  CompanyA   97.658466           NaN          NaN      522.950149   \n",
            "\n",
            "            price_shifted  \n",
            "date                       \n",
            "2023-01-01            NaN  \n",
            "2023-01-02     104.967142  \n",
            "2023-01-03      98.617357  \n",
            "2023-01-04     106.476885  \n",
            "2023-01-05     115.230299  \n"
          ]
        }
      ]
    },
    {
      "cell_type": "markdown",
      "source": [
        "**10. Create a time series with specific frequency:**"
      ],
      "metadata": {
        "id": "3lTgH8SXXTV2"
      }
    },
    {
      "cell_type": "code",
      "source": [
        "ts = pd.Series(np.random.randn(100), index=pd.date_range('2023-01-01', periods=100, freq='D'))\n",
        "print(ts.head())\n"
      ],
      "metadata": {
        "id": "Tp7fzeF0XfWl",
        "colab": {
          "base_uri": "https://localhost:8080/"
        },
        "outputId": "c3b3e6a4-bfe0-4b41-d7f2-3225822d5fc5"
      },
      "execution_count": 5,
      "outputs": [
        {
          "output_type": "stream",
          "name": "stdout",
          "text": [
            "2023-01-01   -0.327662\n",
            "2023-01-02   -0.392108\n",
            "2023-01-03   -1.463515\n",
            "2023-01-04    0.296120\n",
            "2023-01-05    0.261055\n",
            "Freq: D, dtype: float64\n"
          ]
        }
      ]
    }
  ]
}