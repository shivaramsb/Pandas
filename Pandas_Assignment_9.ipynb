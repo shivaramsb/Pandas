{
  "nbformat": 4,
  "nbformat_minor": 0,
  "metadata": {
    "colab": {
      "provenance": []
    },
    "kernelspec": {
      "name": "python3",
      "display_name": "Python 3"
    },
    "language_info": {
      "name": "python"
    }
  },
  "cells": [
    {
      "cell_type": "markdown",
      "source": [
        "**Sample JSON Data**"
      ],
      "metadata": {
        "id": "9eAvO5Hfpipa"
      }
    },
    {
      "cell_type": "code",
      "source": [
        "[\n",
        "    {\n",
        "        \"book_id\": 1,\n",
        "        \"title\": \"The Great Gatsby\",\n",
        "        \"author\": {\n",
        "            \"first_name\": \"F. Scott\",\n",
        "            \"last_name\": \"Fitzgerald\"\n",
        "        },\n",
        "        \"genre\": \"Fiction\",\n",
        "        \"details\": {\n",
        "            \"publisher\": \"Scribner\",\n",
        "            \"year\": 1925,\n",
        "            \"price\": 10.99\n",
        "        }\n",
        "    },\n",
        "    {\n",
        "        \"book_id\": 2,\n",
        "        \"title\": \"To Kill a Mockingbird\",\n",
        "        \"author\": {\n",
        "            \"first_name\": \"Harper\",\n",
        "            \"last_name\": \"Lee\"\n",
        "        },\n",
        "        \"genre\": \"Fiction\",\n",
        "        \"details\": {\n",
        "            \"publisher\": \"J.B. Lippincott & Co.\",\n",
        "            \"year\": 1960,\n",
        "            \"price\": 7.99\n",
        "        }\n",
        "    },\n",
        "    {\n",
        "        \"book_id\": 3,\n",
        "        \"title\": \"1984\",\n",
        "        \"author\": {\n",
        "            \"first_name\": \"George\",\n",
        "            \"last_name\": \"Orwell\"\n",
        "        },\n",
        "        \"genre\": \"Dystopian\",\n",
        "        \"details\": {\n",
        "            \"publisher\": \"Secker & Warburg\",\n",
        "            \"year\": 1949,\n",
        "            \"price\": 8.99\n",
        "        }\n",
        "    }\n",
        "]\n"
      ],
      "metadata": {
        "colab": {
          "base_uri": "https://localhost:8080/"
        },
        "id": "uV2f1nUK2t_f",
        "outputId": "e5d07116-f32e-4f01-fb40-3894fc7c7562"
      },
      "execution_count": 1,
      "outputs": [
        {
          "output_type": "execute_result",
          "data": {
            "text/plain": [
              "[{'book_id': 1,\n",
              "  'title': 'The Great Gatsby',\n",
              "  'author': {'first_name': 'F. Scott', 'last_name': 'Fitzgerald'},\n",
              "  'genre': 'Fiction',\n",
              "  'details': {'publisher': 'Scribner', 'year': 1925, 'price': 10.99}},\n",
              " {'book_id': 2,\n",
              "  'title': 'To Kill a Mockingbird',\n",
              "  'author': {'first_name': 'Harper', 'last_name': 'Lee'},\n",
              "  'genre': 'Fiction',\n",
              "  'details': {'publisher': 'J.B. Lippincott & Co.',\n",
              "   'year': 1960,\n",
              "   'price': 7.99}},\n",
              " {'book_id': 3,\n",
              "  'title': '1984',\n",
              "  'author': {'first_name': 'George', 'last_name': 'Orwell'},\n",
              "  'genre': 'Dystopian',\n",
              "  'details': {'publisher': 'Secker & Warburg', 'year': 1949, 'price': 8.99}}]"
            ]
          },
          "metadata": {},
          "execution_count": 1
        }
      ]
    },
    {
      "cell_type": "markdown",
      "source": [
        "**1.Load JSON data into a DataFrame.**"
      ],
      "metadata": {
        "id": "eEZduVY4WvUz"
      }
    },
    {
      "cell_type": "code",
      "source": [
        "import pandas as pd\n",
        "import json\n",
        "\n",
        "# Sample JSON data\n",
        "json_data = '''\n",
        "[\n",
        "    {\n",
        "        \"book_id\": 1,\n",
        "        \"title\": \"The Great Gatsby\",\n",
        "        \"author\": {\n",
        "            \"first_name\": \"F. Scott\",\n",
        "            \"last_name\": \"Fitzgerald\"\n",
        "        },\n",
        "        \"genre\": \"Fiction\",\n",
        "        \"details\": {\n",
        "            \"publisher\": \"Scribner\",\n",
        "            \"year\": 1925,\n",
        "            \"price\": 10.99\n",
        "        }\n",
        "    },\n",
        "    {\n",
        "        \"book_id\": 2,\n",
        "        \"title\": \"To Kill a Mockingbird\",\n",
        "        \"author\": {\n",
        "            \"first_name\": \"Harper\",\n",
        "            \"last_name\": \"Lee\"\n",
        "        },\n",
        "        \"genre\": \"Fiction\",\n",
        "        \"details\": {\n",
        "            \"publisher\": \"J.B. Lippincott & Co.\",\n",
        "            \"year\": 1960,\n",
        "            \"price\": 7.99\n",
        "        }\n",
        "    },\n",
        "    {\n",
        "        \"book_id\": 3,\n",
        "        \"title\": \"1984\",\n",
        "        \"author\": {\n",
        "            \"first_name\": \"George\",\n",
        "            \"last_name\": \"Orwell\"\n",
        "        },\n",
        "        \"genre\": \"Dystopian\",\n",
        "        \"details\": {\n",
        "            \"publisher\": \"Secker & Warburg\",\n",
        "            \"year\": 1949,\n",
        "            \"price\": 8.99\n",
        "        }\n",
        "    }\n",
        "]\n",
        "'''\n",
        "data = json.loads(json_data)\n",
        "books_df = pd.DataFrame(data)\n",
        "print(books_df)\n"
      ],
      "metadata": {
        "id": "LjyW1CEZXg1g",
        "colab": {
          "base_uri": "https://localhost:8080/"
        },
        "outputId": "290c4dc4-4948-4067-d802-dd7c5ab8dc11"
      },
      "execution_count": 2,
      "outputs": [
        {
          "output_type": "stream",
          "name": "stdout",
          "text": [
            "   book_id                  title  \\\n",
            "0        1       The Great Gatsby   \n",
            "1        2  To Kill a Mockingbird   \n",
            "2        3                   1984   \n",
            "\n",
            "                                              author      genre  \\\n",
            "0  {'first_name': 'F. Scott', 'last_name': 'Fitzg...    Fiction   \n",
            "1       {'first_name': 'Harper', 'last_name': 'Lee'}    Fiction   \n",
            "2    {'first_name': 'George', 'last_name': 'Orwell'}  Dystopian   \n",
            "\n",
            "                                             details  \n",
            "0  {'publisher': 'Scribner', 'year': 1925, 'price...  \n",
            "1  {'publisher': 'J.B. Lippincott & Co.', 'year':...  \n",
            "2  {'publisher': 'Secker & Warburg', 'year': 1949...  \n"
          ]
        }
      ]
    },
    {
      "cell_type": "markdown",
      "source": [
        "**2. Normalize JSON data to a flat table.**"
      ],
      "metadata": {
        "id": "BzS6mSOGW_xE"
      }
    },
    {
      "cell_type": "code",
      "source": [
        "from pandas import json_normalize\n",
        "\n",
        "books_flat = json_normalize(data)\n",
        "print(books_flat)\n"
      ],
      "metadata": {
        "id": "9ebxJ4_FXoXr",
        "colab": {
          "base_uri": "https://localhost:8080/"
        },
        "outputId": "cebcb377-3852-465f-f20c-42d0edfd4b42"
      },
      "execution_count": 3,
      "outputs": [
        {
          "output_type": "stream",
          "name": "stdout",
          "text": [
            "   book_id                  title      genre author.first_name  \\\n",
            "0        1       The Great Gatsby    Fiction          F. Scott   \n",
            "1        2  To Kill a Mockingbird    Fiction            Harper   \n",
            "2        3                   1984  Dystopian            George   \n",
            "\n",
            "  author.last_name      details.publisher  details.year  details.price  \n",
            "0       Fitzgerald               Scribner          1925          10.99  \n",
            "1              Lee  J.B. Lippincott & Co.          1960           7.99  \n",
            "2           Orwell       Secker & Warburg          1949           8.99  \n"
          ]
        }
      ]
    },
    {
      "cell_type": "markdown",
      "source": [
        "**3. Extract a nested JSON object to columns.**"
      ],
      "metadata": {
        "id": "JNcEyXXoW_0X"
      }
    },
    {
      "cell_type": "code",
      "source": [
        "books_df = books_flat.copy()\n",
        "books_df[['author_first_name', 'author_last_name']] = pd.DataFrame(books_df['author'].tolist(), index=books_df.index)\n",
        "books_df[['publisher', 'year', 'price']] = pd.DataFrame(books_df['details'].tolist(), index=books_df.index)\n",
        "books_df = books_df.drop(columns=['author', 'details'])\n",
        "print(books_df)\n"
      ],
      "metadata": {
        "id": "ucQnMI_BXsAK"
      },
      "execution_count": null,
      "outputs": []
    },
    {
      "cell_type": "markdown",
      "source": [
        "**4. Convert DataFrame to JSON string.**"
      ],
      "metadata": {
        "id": "YKnjqU7MW_3R"
      }
    },
    {
      "cell_type": "code",
      "source": [
        "json_string = books_df.to_json(orient='records', lines=True)\n",
        "print(json_string)\n"
      ],
      "metadata": {
        "id": "tSbk1oGAXvaz",
        "colab": {
          "base_uri": "https://localhost:8080/"
        },
        "outputId": "f2fbc201-2f63-4fa2-8dc0-f42296f729bf"
      },
      "execution_count": 5,
      "outputs": [
        {
          "output_type": "stream",
          "name": "stdout",
          "text": [
            "{\"book_id\":1,\"title\":\"The Great Gatsby\",\"genre\":\"Fiction\",\"author.first_name\":\"F. Scott\",\"author.last_name\":\"Fitzgerald\",\"details.publisher\":\"Scribner\",\"details.year\":1925,\"details.price\":10.99}\n",
            "{\"book_id\":2,\"title\":\"To Kill a Mockingbird\",\"genre\":\"Fiction\",\"author.first_name\":\"Harper\",\"author.last_name\":\"Lee\",\"details.publisher\":\"J.B. Lippincott & Co.\",\"details.year\":1960,\"details.price\":7.99}\n",
            "{\"book_id\":3,\"title\":\"1984\",\"genre\":\"Dystopian\",\"author.first_name\":\"George\",\"author.last_name\":\"Orwell\",\"details.publisher\":\"Secker & Warburg\",\"details.year\":1949,\"details.price\":8.99}\n",
            "\n"
          ]
        }
      ]
    },
    {
      "cell_type": "markdown",
      "source": [
        "**5. Write a DataFrame to a JSON file.**"
      ],
      "metadata": {
        "id": "BdPY7W5eW_6K"
      }
    },
    {
      "cell_type": "code",
      "source": [
        "books_df.to_json('books.json', orient='records', indent=4)\n"
      ],
      "metadata": {
        "id": "bCry0CgqXxcJ"
      },
      "execution_count": 6,
      "outputs": []
    },
    {
      "cell_type": "markdown",
      "source": [
        "**6. Load JSON data from a URL.**"
      ],
      "metadata": {
        "id": "rLhfIOnIW_9b"
      }
    },
    {
      "cell_type": "code",
      "source": [
        "import requests\n",
        "\n",
        "import pandas as pd\n",
        "import requests\n",
        "\n",
        "# URL to the JSON data\n",
        "url = 'https://raw.githubusercontent.com/jdorfman/awesome-json-datasets/master/tests/relaxed.json'\n",
        "\n",
        "# Fetch the data from the URL\n",
        "response = requests.get(url)\n",
        "\n",
        "# Check if the request was successful\n",
        "if response.status_code == 200:\n",
        "    # Load JSON data\n",
        "    data_from_url = response.json()\n",
        "\n",
        "    # Convert JSON data to DataFrame\n",
        "    books_from_url_df = pd.DataFrame(data_from_url)\n",
        "\n",
        "    # Display the DataFrame\n",
        "    print(books_from_url_df)\n",
        "else:\n",
        "    print(f\"Failed to retrieve data: {response.status_code}\")\n",
        "\n"
      ],
      "metadata": {
        "id": "4QA0tTaUXyop"
      },
      "execution_count": null,
      "outputs": []
    },
    {
      "cell_type": "markdown",
      "source": [
        "**7. Handle missing keys in JSON objects.**"
      ],
      "metadata": {
        "id": "9a-TUiAoXTJt"
      }
    },
    {
      "cell_type": "code",
      "source": [
        "# Simulate a JSON object with missing keys\n",
        "json_data_with_missing_keys = '''\n",
        "[\n",
        "    {\n",
        "        \"book_id\": 1,\n",
        "        \"title\": \"The Great Gatsby\"\n",
        "    },\n",
        "    {\n",
        "        \"book_id\": 2,\n",
        "        \"title\": \"To Kill a Mockingbird\",\n",
        "        \"author\": {\n",
        "            \"first_name\": \"Harper\"\n",
        "        }\n",
        "    }\n",
        "]\n",
        "'''\n",
        "data_missing_keys = json.loads(json_data_with_missing_keys)\n",
        "books_missing_keys_df = pd.json_normalize(data_missing_keys)\n",
        "print(books_missing_keys_df)\n",
        "\n"
      ],
      "metadata": {
        "colab": {
          "base_uri": "https://localhost:8080/"
        },
        "id": "n0fo7KVzXzVd",
        "outputId": "668a0060-b31d-418e-997b-42b0a6de4d20"
      },
      "execution_count": 8,
      "outputs": [
        {
          "output_type": "stream",
          "name": "stdout",
          "text": [
            "   book_id                  title author.first_name\n",
            "0        1       The Great Gatsby               NaN\n",
            "1        2  To Kill a Mockingbird            Harper\n"
          ]
        }
      ]
    },
    {
      "cell_type": "markdown",
      "source": [
        "**8. Parse JSON data with a specific schema.**"
      ],
      "metadata": {
        "id": "RoYNvVw9XTM9"
      }
    },
    {
      "cell_type": "code",
      "source": [
        "import pandas as pd\n",
        "import json\n",
        "\n",
        "# Sample JSON data with some missing or incorrect fields\n",
        "json_data_with_schema_issues = '''\n",
        "[\n",
        "    {\n",
        "        \"book_id\": 1,\n",
        "        \"title\": \"The Great Gatsby\",\n",
        "        \"author\": {\n",
        "            \"first_name\": \"F. Scott\",\n",
        "            \"last_name\": \"Fitzgerald\"\n",
        "        },\n",
        "        \"genre\": \"Fiction\",\n",
        "        \"details\": {\n",
        "            \"publisher\": \"Scribner\",\n",
        "            \"year\": 1925,\n",
        "            \"price\": 10.99\n",
        "        }\n",
        "    },\n",
        "    {\n",
        "        \"book_id\": \"two\",  # Incorrect data type\n",
        "        \"title\": \"To Kill a Mockingbird\",\n",
        "        \"author\": {\n",
        "            \"first_name\": \"Harper\",\n",
        "            \"last_name\": \"Lee\"\n",
        "        },\n",
        "        \"genre\": \"Fiction\",\n",
        "        \"details\": {\n",
        "            \"publisher\": \"J.B. Lippincott & Co.\",\n",
        "            \"year\": 1960,\n",
        "            \"price\": 7.99\n",
        "        }\n",
        "    },\n",
        "    {\n",
        "        \"book_id\": 3,\n",
        "        \"title\": \"1984\",\n",
        "        \"author\": {\n",
        "            \"first_name\": \"George\",\n",
        "            \"last_name\": \"Orwell\"\n",
        "        },\n",
        "        \"genre\": \"Dystopian\",\n",
        "        \"details\": {\n",
        "            \"publisher\": \"Secker & Warburg\",\n",
        "            \"year\": 1949,\n",
        "            \"price\": \"eight point ninety nine\"  # Incorrect data type\n",
        "        }\n",
        "    }\n",
        "]\n",
        "'''\n",
        "\n",
        "# Load JSON data\n",
        "data_with_issues = json.loads(json_data_with_schema_issues)\n",
        "books_df_with_issues = pd.json_normalize(data_with_issues)\n",
        "\n",
        "# Define a function to validate the data types and required fields\n",
        "def validate_schema(df):\n",
        "    errors = []\n",
        "\n",
        "    # Validate book_id\n",
        "    if not pd.api.types.is_integer_dtype(df['book_id']):\n",
        "        errors.append(\"book_id should be an integer\")\n",
        "\n",
        "    # Validate price\n",
        "    try:\n",
        "        df['details.price'] = df['details.price'].astype(float)\n",
        "    except ValueError:\n",
        "        errors.append(\"details.price should be a float\")\n",
        "\n",
        "    # Check required fields\n",
        "    required_fields = ['book_id', 'title', 'author.first_name', 'author.last_name', 'details.publisher', 'details.year', 'details.price']\n",
        "    for field in required_fields:\n",
        "        if field not in df.columns or df[field].isnull().any():\n",
        "            errors.append(f\"{field} is required and should not be null\")\n",
        "\n",
        "    return errors\n",
        "\n",
        "# Validate the schema\n",
        "schema_errors = validate_schema(books_df_with_issues)\n",
        "if schema_errors:\n",
        "    for error in schema_errors:\n",
        "        print(f\"Schema Error: {error}\")\n",
        "else:\n",
        "    print(\"Data conforms to the schema\")\n",
        "\n",
        "# Output the DataFrame\n",
        "print(books_df_with_issues)\n"
      ],
      "metadata": {
        "id": "C3K67-KdXz1o"
      },
      "execution_count": null,
      "outputs": []
    },
    {
      "cell_type": "markdown",
      "source": [
        "**9. Flatten a deeply nested JSON structure.**"
      ],
      "metadata": {
        "id": "bwB9qUewXTQJ"
      }
    },
    {
      "cell_type": "code",
      "source": [
        "deeply_nested_json = '''\n",
        "[\n",
        "    {\n",
        "        \"book_id\": 1,\n",
        "        \"title\": \"The Great Gatsby\",\n",
        "        \"author\": {\n",
        "            \"first_name\": \"F. Scott\",\n",
        "            \"last_name\": \"Fitzgerald\",\n",
        "            \"bio\": {\n",
        "                \"birth_year\": 1896,\n",
        "                \"death_year\": 1940\n",
        "            }\n",
        "        }\n",
        "    }\n",
        "]\n",
        "'''\n",
        "data_deeply_nested = json.loads(deeply_nested_json)\n",
        "books_deeply_nested_df = json_normalize(data_deeply_nested, sep='_')\n",
        "print(books_deeply_nested_df)\n",
        "\n"
      ],
      "metadata": {
        "id": "kQzHl0Y0X0cs",
        "colab": {
          "base_uri": "https://localhost:8080/"
        },
        "outputId": "a29b6b3a-e8cc-43eb-8505-dc5e1a57b04e"
      },
      "execution_count": 10,
      "outputs": [
        {
          "output_type": "stream",
          "name": "stdout",
          "text": [
            "   book_id             title author_first_name author_last_name  \\\n",
            "0        1  The Great Gatsby          F. Scott       Fitzgerald   \n",
            "\n",
            "   author_bio_birth_year  author_bio_death_year  \n",
            "0                   1896                   1940  \n"
          ]
        }
      ]
    },
    {
      "cell_type": "markdown",
      "source": [
        "**10. Merge JSON data with another DataFrame.**"
      ],
      "metadata": {
        "id": "3lTgH8SXXTV2"
      }
    },
    {
      "cell_type": "code",
      "source": [
        "# Create another DataFrame\n",
        "additional_data = {\n",
        "    'book_id': [1, 2, 3],\n",
        "    'rating': [4.5, 4.8, 4.2],\n",
        "    'reviews': [2500, 3400, 4100]\n",
        "}\n",
        "additional_df = pd.DataFrame(additional_data)\n",
        "\n",
        "# Merge with the books DataFrame\n",
        "merged_df = pd.merge(books_df, additional_df, on='book_id')\n",
        "print(merged_df)\n"
      ],
      "metadata": {
        "id": "Tp7fzeF0XfWl",
        "colab": {
          "base_uri": "https://localhost:8080/"
        },
        "outputId": "2e13cd1f-4b76-4971-b352-af04ceeb4084"
      },
      "execution_count": 11,
      "outputs": [
        {
          "output_type": "stream",
          "name": "stdout",
          "text": [
            "   book_id                  title      genre author.first_name  \\\n",
            "0        1       The Great Gatsby    Fiction          F. Scott   \n",
            "1        2  To Kill a Mockingbird    Fiction            Harper   \n",
            "2        3                   1984  Dystopian            George   \n",
            "\n",
            "  author.last_name      details.publisher  details.year  details.price  \\\n",
            "0       Fitzgerald               Scribner          1925          10.99   \n",
            "1              Lee  J.B. Lippincott & Co.          1960           7.99   \n",
            "2           Orwell       Secker & Warburg          1949           8.99   \n",
            "\n",
            "   rating  reviews  \n",
            "0     4.5     2500  \n",
            "1     4.8     3400  \n",
            "2     4.2     4100  \n"
          ]
        }
      ]
    }
  ]
}