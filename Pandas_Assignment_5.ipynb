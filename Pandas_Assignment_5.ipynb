{
  "nbformat": 4,
  "nbformat_minor": 0,
  "metadata": {
    "colab": {
      "provenance": []
    },
    "kernelspec": {
      "name": "python3",
      "display_name": "Python 3"
    },
    "language_info": {
      "name": "python"
    }
  },
  "cells": [
    {
      "cell_type": "markdown",
      "source": [
        "**1.Group data by a single column.**"
      ],
      "metadata": {
        "id": "eEZduVY4WvUz"
      }
    },
    {
      "cell_type": "code",
      "source": [
        "import pandas as pd\n",
        "\n",
        "# Sample dataset creation\n",
        "data = {\n",
        "    'department': ['Sales', 'Sales', 'Sales', 'HR', 'HR', 'HR', 'IT', 'IT', 'IT'],\n",
        "    'employee': ['John', 'Anna', 'Peter', 'Linda', 'James', 'David', 'Sophia', 'Michael', 'Emma'],\n",
        "    'salary': [70000, 80000, 60000, 90000, 85000, 75000, 120000, 110000, 105000],\n",
        "    'years_experience': [5, 6, 4, 7, 8, 5, 10, 9, 11]\n",
        "}\n",
        "\n",
        "df = pd.DataFrame(data)\n",
        "print(df)\n",
        "grouped = df.groupby('department')\n",
        "print(grouped)"
      ],
      "metadata": {
        "id": "LjyW1CEZXg1g",
        "colab": {
          "base_uri": "https://localhost:8080/"
        },
        "outputId": "2e743c8d-bf52-4bc7-8da5-d02c916020f1"
      },
      "execution_count": 13,
      "outputs": [
        {
          "output_type": "stream",
          "name": "stdout",
          "text": [
            "  department employee  salary  years_experience\n",
            "0      Sales     John   70000                 5\n",
            "1      Sales     Anna   80000                 6\n",
            "2      Sales    Peter   60000                 4\n",
            "3         HR    Linda   90000                 7\n",
            "4         HR    James   85000                 8\n",
            "5         HR    David   75000                 5\n",
            "6         IT   Sophia  120000                10\n",
            "7         IT  Michael  110000                 9\n",
            "8         IT     Emma  105000                11\n",
            "<pandas.core.groupby.generic.DataFrameGroupBy object at 0x7c183238b580>\n"
          ]
        }
      ]
    },
    {
      "cell_type": "markdown",
      "source": [
        "**2. Group data by multiple columns.**"
      ],
      "metadata": {
        "id": "BzS6mSOGW_xE"
      }
    },
    {
      "cell_type": "code",
      "source": [
        "grouped = df.groupby(['department', 'employee'])\n",
        "print(grouped)\n"
      ],
      "metadata": {
        "id": "9ebxJ4_FXoXr",
        "colab": {
          "base_uri": "https://localhost:8080/"
        },
        "outputId": "e73a3efa-6ce9-41f6-83f2-4da7e4160c6b"
      },
      "execution_count": 14,
      "outputs": [
        {
          "output_type": "stream",
          "name": "stdout",
          "text": [
            "<pandas.core.groupby.generic.DataFrameGroupBy object at 0x7c1832389e70>\n"
          ]
        }
      ]
    },
    {
      "cell_type": "markdown",
      "source": [
        "**3. Aggregate data with sum.**"
      ],
      "metadata": {
        "id": "JNcEyXXoW_0X"
      }
    },
    {
      "cell_type": "code",
      "source": [
        "sum_df = df.groupby('department').sum()\n",
        "print(sum_df)\n"
      ],
      "metadata": {
        "id": "ucQnMI_BXsAK",
        "colab": {
          "base_uri": "https://localhost:8080/"
        },
        "outputId": "da15faeb-a9cc-4001-9fd5-bcdeaf1db501"
      },
      "execution_count": 15,
      "outputs": [
        {
          "output_type": "stream",
          "name": "stdout",
          "text": [
            "                     employee  salary  years_experience\n",
            "department                                             \n",
            "HR            LindaJamesDavid  250000                20\n",
            "IT          SophiaMichaelEmma  335000                30\n",
            "Sales           JohnAnnaPeter  210000                15\n"
          ]
        }
      ]
    },
    {
      "cell_type": "markdown",
      "source": [
        "**4. Aggregate data with mean.**"
      ],
      "metadata": {
        "id": "YKnjqU7MW_3R"
      }
    },
    {
      "cell_type": "code",
      "source": [
        "mean_df = df.groupby('department').mean()\n",
        "print(mean_df)\n"
      ],
      "metadata": {
        "id": "tSbk1oGAXvaz"
      },
      "execution_count": null,
      "outputs": []
    },
    {
      "cell_type": "markdown",
      "source": [
        "**5. Aggregate data with multiple functions.**"
      ],
      "metadata": {
        "id": "BdPY7W5eW_6K"
      }
    },
    {
      "cell_type": "code",
      "source": [
        "agg_df = df.groupby('department').agg(['sum', 'mean'])\n",
        "print(agg_df)\n"
      ],
      "metadata": {
        "id": "bCry0CgqXxcJ"
      },
      "execution_count": null,
      "outputs": []
    },
    {
      "cell_type": "markdown",
      "source": [
        "**6. Transform grouped data.**"
      ],
      "metadata": {
        "id": "rLhfIOnIW_9b"
      }
    },
    {
      "cell_type": "code",
      "source": [
        "transformed = df.groupby('department').transform(lambda x: x - x.mean())\n",
        "print(transformed)\n"
      ],
      "metadata": {
        "id": "4QA0tTaUXyop"
      },
      "execution_count": null,
      "outputs": []
    },
    {
      "cell_type": "markdown",
      "source": [
        "**7. Filter groups based on a condition.**"
      ],
      "metadata": {
        "id": "9a-TUiAoXTJt"
      }
    },
    {
      "cell_type": "code",
      "source": [
        "filtered = df.groupby('department').filter(lambda x: x['salary'].mean() > 80000)\n",
        "print(filtered)\n"
      ],
      "metadata": {
        "colab": {
          "base_uri": "https://localhost:8080/"
        },
        "id": "n0fo7KVzXzVd",
        "outputId": "243f6a3e-a7f7-4183-e521-dc12592a61be"
      },
      "execution_count": 19,
      "outputs": [
        {
          "output_type": "stream",
          "name": "stdout",
          "text": [
            "  department employee  salary  years_experience\n",
            "3         HR    Linda   90000                 7\n",
            "4         HR    James   85000                 8\n",
            "5         HR    David   75000                 5\n",
            "6         IT   Sophia  120000                10\n",
            "7         IT  Michael  110000                 9\n",
            "8         IT     Emma  105000                11\n"
          ]
        }
      ]
    },
    {
      "cell_type": "markdown",
      "source": [
        "**8. Apply a custom aggregation function.**"
      ],
      "metadata": {
        "id": "RoYNvVw9XTM9"
      }
    },
    {
      "cell_type": "code",
      "source": [
        "custom_agg = df.groupby('department').agg(lambda x: x.max() - x.min())\n",
        "print(custom_agg)"
      ],
      "metadata": {
        "id": "C3K67-KdXz1o"
      },
      "execution_count": null,
      "outputs": []
    },
    {
      "cell_type": "markdown",
      "source": [
        "**9. Get the size of each group.**"
      ],
      "metadata": {
        "id": "bwB9qUewXTQJ"
      }
    },
    {
      "cell_type": "code",
      "source": [
        "size = df.groupby('department').size()\n",
        "print(size)\n"
      ],
      "metadata": {
        "id": "kQzHl0Y0X0cs",
        "colab": {
          "base_uri": "https://localhost:8080/"
        },
        "outputId": "13e3efe1-04ee-4879-c5fb-8fc18849354a"
      },
      "execution_count": 22,
      "outputs": [
        {
          "output_type": "stream",
          "name": "stdout",
          "text": [
            "department\n",
            "HR       3\n",
            "IT       3\n",
            "Sales    3\n",
            "dtype: int64\n"
          ]
        }
      ]
    },
    {
      "cell_type": "markdown",
      "source": [
        "**10. Use .agg() with a dictionary of functions.**"
      ],
      "metadata": {
        "id": "3lTgH8SXXTV2"
      }
    },
    {
      "cell_type": "code",
      "source": [
        "agg_dict = df.groupby('department').agg({\n",
        "    'salary': 'sum',\n",
        "    'years_experience': 'mean'\n",
        "})\n",
        "print(agg_dict)\n"
      ],
      "metadata": {
        "id": "Tp7fzeF0XfWl",
        "colab": {
          "base_uri": "https://localhost:8080/"
        },
        "outputId": "edf436c6-75d5-45c6-c812-42befef53678"
      },
      "execution_count": 21,
      "outputs": [
        {
          "output_type": "stream",
          "name": "stdout",
          "text": [
            "            salary  years_experience\n",
            "department                          \n",
            "HR          250000          6.666667\n",
            "IT          335000         10.000000\n",
            "Sales       210000          5.000000\n"
          ]
        }
      ]
    }
  ]
}